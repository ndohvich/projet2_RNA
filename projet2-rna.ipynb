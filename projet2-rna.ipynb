{
 "cells": [
  {
   "cell_type": "code",
   "execution_count": 1,
   "id": "c53d9dcc",
   "metadata": {
    "_cell_guid": "b1076dfc-b9ad-4769-8c92-a6c4dae69d19",
    "_uuid": "8f2839f25d086af736a60e9eeb907d3b93b6e0e5",
    "execution": {
     "iopub.execute_input": "2022-06-27T00:06:56.133463Z",
     "iopub.status.busy": "2022-06-27T00:06:56.132990Z",
     "iopub.status.idle": "2022-06-27T00:07:08.503871Z",
     "shell.execute_reply": "2022-06-27T00:07:08.502564Z"
    },
    "papermill": {
     "duration": 12.381166,
     "end_time": "2022-06-27T00:07:08.507193",
     "exception": false,
     "start_time": "2022-06-27T00:06:56.126027",
     "status": "completed"
    },
    "tags": []
   },
   "outputs": [],
   "source": [
    "#Installation des librairies de base\n",
    "import matplotlib.pyplot as plt\n",
    "import tensorflow as tf \n",
    "from tensorflow import keras \n",
    "from tensorflow.keras.models import Sequential\n",
    "from tensorflow.keras.layers import Dense, Activation, Conv2D, MaxPooling2D, Flatten, Dropout, BatchNormalization\n",
    "from tensorflow.keras.optimizers import Adam\n",
    "from tensorflow.keras.callbacks import EarlyStopping\n",
    "from tensorflow.keras.preprocessing.image import ImageDataGenerator\n",
    "from sklearn.metrics import precision_recall_curve, roc_curve, accuracy_score, confusion_matrix, precision_score, recall_score\n",
    "from sklearn.decomposition import PCA\n",
    "from sklearn.model_selection import train_test_split\n",
    "import matplotlib.pyplot as plt \n",
    "import seaborn as sns \n",
    "plt.style.use('fivethirtyeight')\n",
    "import pickle \n",
    "import os \n",
    "import numpy as np\n",
    "import cv2 \n",
    "%matplotlib inline"
   ]
  },
  {
   "cell_type": "markdown",
   "id": "391cd0fe",
   "metadata": {
    "papermill": {
     "duration": 0.004057,
     "end_time": "2022-06-27T00:07:08.515906",
     "exception": false,
     "start_time": "2022-06-27T00:07:08.511849",
     "status": "completed"
    },
    "tags": []
   },
   "source": [
    "Traitement des images et redimensionnement"
   ]
  },
  {
   "cell_type": "code",
   "execution_count": 2,
   "id": "cb1fb7d8",
   "metadata": {
    "execution": {
     "iopub.execute_input": "2022-06-27T00:07:08.526916Z",
     "iopub.status.busy": "2022-06-27T00:07:08.526221Z",
     "iopub.status.idle": "2022-06-27T00:07:08.534956Z",
     "shell.execute_reply": "2022-06-27T00:07:08.533742Z"
    },
    "papermill": {
     "duration": 0.016904,
     "end_time": "2022-06-27T00:07:08.537182",
     "exception": false,
     "start_time": "2022-06-27T00:07:08.520278",
     "status": "completed"
    },
    "tags": []
   },
   "outputs": [],
   "source": [
    "#Traitement des images et redimensionnement \n",
    "labels = ['PNEUMONIA', 'NORMAL']\n",
    "img_size = 200\n",
    "def get_training_data(data_dir):\n",
    "    data = [] \n",
    "    for label in labels: \n",
    "        path = os.path.join(data_dir, label)\n",
    "        class_num = labels.index(label)\n",
    "        for img in os.listdir(path):\n",
    "            try:\n",
    "                img_arr = cv2.imread(os.path.join(path, img), cv2.IMREAD_GRAYSCALE)\n",
    "                resized_arr = cv2.resize(img_arr, (img_size, img_size))\n",
    "                data.append([resized_arr, class_num])\n",
    "            except Exception as e:\n",
    "                print(e)\n",
    "    return np.array(data)"
   ]
  },
  {
   "cell_type": "markdown",
   "id": "d4737cb2",
   "metadata": {
    "papermill": {
     "duration": 0.003889,
     "end_time": "2022-06-27T00:07:08.545300",
     "exception": false,
     "start_time": "2022-06-27T00:07:08.541411",
     "status": "completed"
    },
    "tags": []
   },
   "source": [
    "Préparation des données de tests validation et d'entrainement"
   ]
  },
  {
   "cell_type": "code",
   "execution_count": 3,
   "id": "9f84259c",
   "metadata": {
    "execution": {
     "iopub.execute_input": "2022-06-27T00:07:08.556159Z",
     "iopub.status.busy": "2022-06-27T00:07:08.555082Z",
     "iopub.status.idle": "2022-06-27T00:08:41.610399Z",
     "shell.execute_reply": "2022-06-27T00:08:41.608860Z"
    },
    "papermill": {
     "duration": 93.064131,
     "end_time": "2022-06-27T00:08:41.613563",
     "exception": false,
     "start_time": "2022-06-27T00:07:08.549432",
     "status": "completed"
    },
    "tags": []
   },
   "outputs": [
    {
     "name": "stdout",
     "output_type": "stream",
     "text": [
      "OpenCV(4.5.4) /tmp/pip-req-build-jpmv6t9_/opencv/modules/imgproc/src/resize.cpp:4051: error: (-215:Assertion failed) !ssize.empty() in function 'resize'\n",
      "\n",
      "OpenCV(4.5.4) /tmp/pip-req-build-jpmv6t9_/opencv/modules/imgproc/src/resize.cpp:4051: error: (-215:Assertion failed) !ssize.empty() in function 'resize'\n",
      "\n"
     ]
    },
    {
     "name": "stderr",
     "output_type": "stream",
     "text": [
      "/opt/conda/lib/python3.7/site-packages/ipykernel_launcher.py:16: VisibleDeprecationWarning: Creating an ndarray from ragged nested sequences (which is a list-or-tuple of lists-or-tuples-or ndarrays with different lengths or shapes) is deprecated. If you meant to do this, you must specify 'dtype=object' when creating the ndarray.\n",
      "  \n"
     ]
    },
    {
     "name": "stdout",
     "output_type": "stream",
     "text": [
      "OpenCV(4.5.4) /tmp/pip-req-build-jpmv6t9_/opencv/modules/imgproc/src/resize.cpp:4051: error: (-215:Assertion failed) !ssize.empty() in function 'resize'\n",
      "\n",
      "OpenCV(4.5.4) /tmp/pip-req-build-jpmv6t9_/opencv/modules/imgproc/src/resize.cpp:4051: error: (-215:Assertion failed) !ssize.empty() in function 'resize'\n",
      "\n",
      "Pneumonia: 3875\n",
      "Normal: 1341\n",
      "Pneumonia - Normal: 2534\n"
     ]
    }
   ],
   "source": [
    "train = get_training_data('../input/chest-xray-pneumonia/chest_xray/chest_xray/train')\n",
    "test = get_training_data('../input/chest-xray-pneumonia/chest_xray/chest_xray/test')\n",
    "val = get_training_data('../input/chest-xray-pneumonia/chest_xray/chest_xray/val')\n",
    "\n",
    "#Ensuite nous comptons les images par label\n",
    "pnenumonia = 0 \n",
    "normal = 0 \n",
    "\n",
    "for i, j in train:\n",
    "    if j == 0:\n",
    "        pnenumonia+=1\n",
    "    else:\n",
    "        normal+=1\n",
    "        \n",
    "print('Pneumonia:', pnenumonia)\n",
    "print('Normal:', normal)\n",
    "print('Pneumonia - Normal:', pnenumonia-normal)"
   ]
  },
  {
   "cell_type": "markdown",
   "id": "65d1c7b6",
   "metadata": {
    "papermill": {
     "duration": 0.004389,
     "end_time": "2022-06-27T00:08:41.623274",
     "exception": false,
     "start_time": "2022-06-27T00:08:41.618885",
     "status": "completed"
    },
    "tags": []
   },
   "source": [
    "Visualisation d'une image de la base de données "
   ]
  },
  {
   "cell_type": "code",
   "execution_count": 4,
   "id": "314c687f",
   "metadata": {
    "execution": {
     "iopub.execute_input": "2022-06-27T00:08:41.634272Z",
     "iopub.status.busy": "2022-06-27T00:08:41.633673Z",
     "iopub.status.idle": "2022-06-27T00:08:41.774926Z",
     "shell.execute_reply": "2022-06-27T00:08:41.772175Z"
    },
    "papermill": {
     "duration": 0.1527,
     "end_time": "2022-06-27T00:08:41.780515",
     "exception": false,
     "start_time": "2022-06-27T00:08:41.627815",
     "status": "completed"
    },
    "tags": []
   },
   "outputs": [
    {
     "name": "stdout",
     "output_type": "stream",
     "text": [
      "PNEUMONIA\n"
     ]
    },
    {
     "data": {
      "image/png": "[encoded data removed]",
      "text/plain": [
       "<Figure size 432x288 with 1 Axes>"
      ]
     },
     "metadata": {
      "needs_background": "light"
     },
     "output_type": "display_data"
    }
   ],
   "source": [
    "plt.imshow(train[1][0], cmap='gray')\n",
    "plt.axis('off')\n",
    "print(labels[train[1][1]])"
   ]
  },
  {
   "cell_type": "markdown",
   "id": "cea43483",
   "metadata": {
    "papermill": {
     "duration": 0.005504,
     "end_time": "2022-06-27T00:08:41.796298",
     "exception": false,
     "start_time": "2022-06-27T00:08:41.790794",
     "status": "completed"
    },
    "tags": []
   },
   "source": [
    "Mise en place des données d'entrainement et de test "
   ]
  },
  {
   "cell_type": "code",
   "execution_count": 5,
   "id": "fa891f88",
   "metadata": {
    "execution": {
     "iopub.execute_input": "2022-06-27T00:08:41.809638Z",
     "iopub.status.busy": "2022-06-27T00:08:41.809006Z",
     "iopub.status.idle": "2022-06-27T00:08:42.923147Z",
     "shell.execute_reply": "2022-06-27T00:08:42.921664Z"
    },
    "papermill": {
     "duration": 1.124189,
     "end_time": "2022-06-27T00:08:42.926079",
     "exception": false,
     "start_time": "2022-06-27T00:08:41.801890",
     "status": "completed"
    },
    "tags": []
   },
   "outputs": [],
   "source": [
    "X = []\n",
    "y = []\n",
    "\n",
    "for feature, label in train:\n",
    "    X.append(feature)\n",
    "    y.append(label)\n",
    "\n",
    "for feature, label in test:\n",
    "    X.append(feature)\n",
    "    y.append(label)\n",
    "    \n",
    "for feature, label in val:\n",
    "    X.append(feature)\n",
    "    y.append(label)\n",
    "\n",
    "\n",
    "# resize data for deep learning \n",
    "X = np.array(X).reshape(-1, img_size, img_size, 1)\n",
    "y = np.array(y)\n",
    "\n",
    "X_train, X_test, y_train, y_test = train_test_split(X, y, test_size=0.2, random_state=32)\n",
    "X_train, X_val, y_train, y_val = train_test_split(X_train, y_train, test_size=0.20, random_state=32)\n",
    "\n",
    "X_train = X_train / 255\n",
    "X_test = X_test / 255\n",
    "X_val = X_val / 255"
   ]
  },
  {
   "cell_type": "markdown",
   "id": "4bb287a4",
   "metadata": {
    "papermill": {
     "duration": 0.005458,
     "end_time": "2022-06-27T00:08:42.937972",
     "exception": false,
     "start_time": "2022-06-27T00:08:42.932514",
     "status": "completed"
    },
    "tags": []
   },
   "source": [
    "Augmentation des données "
   ]
  },
  {
   "cell_type": "code",
   "execution_count": 6,
   "id": "7693076e",
   "metadata": {
    "execution": {
     "iopub.execute_input": "2022-06-27T00:08:42.952182Z",
     "iopub.status.busy": "2022-06-27T00:08:42.951016Z",
     "iopub.status.idle": "2022-06-27T00:08:43.602860Z",
     "shell.execute_reply": "2022-06-27T00:08:43.601206Z"
    },
    "papermill": {
     "duration": 0.661872,
     "end_time": "2022-06-27T00:08:43.605760",
     "exception": false,
     "start_time": "2022-06-27T00:08:42.943888",
     "status": "completed"
    },
    "tags": []
   },
   "outputs": [],
   "source": [
    "datagen = ImageDataGenerator(\n",
    "        featurewise_center=False, \n",
    "        samplewise_center=False,  \n",
    "        featurewise_std_normalization=False,  \n",
    "        samplewise_std_normalization=False,  \n",
    "        zca_whitening=False,  \n",
    "        rotation_range=90, \n",
    "        zoom_range = 0.1, \n",
    "        width_shift_range=0.1,  \n",
    "        height_shift_range=0.1,  \n",
    "        horizontal_flip=True,  \n",
    "        vertical_flip=True)  \n",
    "\n",
    "datagen.fit(X_train)"
   ]
  },
  {
   "cell_type": "markdown",
   "id": "30a738d7",
   "metadata": {
    "papermill": {
     "duration": 0.005306,
     "end_time": "2022-06-27T00:08:43.616768",
     "exception": false,
     "start_time": "2022-06-27T00:08:43.611462",
     "status": "completed"
    },
    "tags": []
   },
   "source": [
    "Mise en place du modèle "
   ]
  },
  {
   "cell_type": "code",
   "execution_count": 7,
   "id": "94ed9b35",
   "metadata": {
    "execution": {
     "iopub.execute_input": "2022-06-27T00:08:43.630492Z",
     "iopub.status.busy": "2022-06-27T00:08:43.629636Z",
     "iopub.status.idle": "2022-06-27T00:08:43.919599Z",
     "shell.execute_reply": "2022-06-27T00:08:43.918607Z"
    },
    "papermill": {
     "duration": 0.300042,
     "end_time": "2022-06-27T00:08:43.922459",
     "exception": false,
     "start_time": "2022-06-27T00:08:43.622417",
     "status": "completed"
    },
    "tags": []
   },
   "outputs": [
    {
     "name": "stderr",
     "output_type": "stream",
     "text": [
      "2022-06-27 00:08:43.682840: I tensorflow/core/common_runtime/process_util.cc:146] Creating new thread pool with default inter op setting: 2. Tune using inter_op_parallelism_threads for best performance.\n"
     ]
    },
    {
     "name": "stdout",
     "output_type": "stream",
     "text": [
      "Model: \"sequential\"\n",
      "_________________________________________________________________\n",
      "Layer (type)                 Output Shape              Param #   \n",
      "=================================================================\n",
      "conv2d (Conv2D)              (None, 200, 200, 256)     2560      \n",
      "_________________________________________________________________\n",
      "activation (Activation)      (None, 200, 200, 256)     0         \n",
      "_________________________________________________________________\n",
      "max_pooling2d (MaxPooling2D) (None, 100, 100, 256)     0         \n",
      "_________________________________________________________________\n",
      "batch_normalization (BatchNo (None, 100, 100, 256)     400       \n",
      "_________________________________________________________________\n",
      "conv2d_1 (Conv2D)            (None, 100, 100, 64)      147520    \n",
      "_________________________________________________________________\n",
      "activation_1 (Activation)    (None, 100, 100, 64)      0         \n",
      "_________________________________________________________________\n",
      "max_pooling2d_1 (MaxPooling2 (None, 50, 50, 64)        0         \n",
      "_________________________________________________________________\n",
      "batch_normalization_1 (Batch (None, 50, 50, 64)        200       \n",
      "_________________________________________________________________\n",
      "conv2d_2 (Conv2D)            (None, 50, 50, 16)        9232      \n",
      "_________________________________________________________________\n",
      "activation_2 (Activation)    (None, 50, 50, 16)        0         \n",
      "_________________________________________________________________\n",
      "max_pooling2d_2 (MaxPooling2 (None, 25, 25, 16)        0         \n",
      "_________________________________________________________________\n",
      "batch_normalization_2 (Batch (None, 25, 25, 16)        100       \n",
      "_________________________________________________________________\n",
      "flatten (Flatten)            (None, 10000)             0         \n",
      "_________________________________________________________________\n",
      "dropout (Dropout)            (None, 10000)             0         \n",
      "_________________________________________________________________\n",
      "dense (Dense)                (None, 64)                640064    \n",
      "_________________________________________________________________\n",
      "activation_3 (Activation)    (None, 64)                0         \n",
      "_________________________________________________________________\n",
      "dropout_1 (Dropout)          (None, 64)                0         \n",
      "_________________________________________________________________\n",
      "dense_1 (Dense)              (None, 1)                 65        \n",
      "_________________________________________________________________\n",
      "activation_4 (Activation)    (None, 1)                 0         \n",
      "=================================================================\n",
      "Total params: 800,141\n",
      "Trainable params: 799,791\n",
      "Non-trainable params: 350\n",
      "_________________________________________________________________\n"
     ]
    }
   ],
   "source": [
    "model = Sequential()\n",
    "\n",
    "model.add(Conv2D(256, (3, 3), input_shape=X_train.shape[1:], padding='same'))\n",
    "model.add(Activation('relu'))\n",
    "model.add(MaxPooling2D(pool_size=(2, 2), padding='same'))\n",
    "model.add(BatchNormalization(axis=1))\n",
    "\n",
    "model.add(Conv2D(64, (3, 3), padding='same'))\n",
    "model.add(Activation('relu'))\n",
    "model.add(MaxPooling2D(pool_size=(2, 2), padding='same'))\n",
    "model.add(BatchNormalization(axis=1))\n",
    "\n",
    "model.add(Conv2D(16, (3, 3), padding='same'))\n",
    "model.add(Activation('relu'))\n",
    "model.add(MaxPooling2D(pool_size=(2, 2), padding='same'))\n",
    "model.add(BatchNormalization(axis=1))\n",
    "\n",
    "model.add(Flatten())  # this converts our 3D feature maps to 1D feature vectors\n",
    "\n",
    "model.add(Dropout(0.5))\n",
    "model.add(Dense(64))\n",
    "model.add(Activation('relu'))\n",
    "\n",
    "model.add(Dropout(0.5))\n",
    "model.add(Dense(1))\n",
    "model.add(Activation('sigmoid'))\n",
    "\n",
    "early_stop = EarlyStopping(patience=3, monitor='val_loss', restore_best_weights=True)\n",
    "adam = Adam(learning_rate=0.0001)\n",
    "model.compile(loss='binary_crossentropy',optimizer=adam,metrics=['acc'])\n",
    "\n",
    "model.summary()"
   ]
  }
 ],
 "metadata": {
  "kernelspec": {
   "display_name": "Python 3",
   "language": "python",
   "name": "python3"
  },
  "language_info": {
   "codemirror_mode": {
    "name": "ipython",
    "version": 3
   },
   "file_extension": ".py",
   "mimetype": "text/x-python",
   "name": "python",
   "nbconvert_exporter": "python",
   "pygments_lexer": "ipython3",
   "version": "3.7.12"
  },
  "papermill": {
   "default_parameters": {},
   "duration": 121.819534,
   "end_time": "2022-06-27T00:08:46.817436",
   "environment_variables": {},
   "exception": null,
   "input_path": "__notebook__.ipynb",
   "output_path": "__notebook__.ipynb",
   "parameters": {},
   "start_time": "2022-06-27T00:06:44.997902",
   "version": "2.3.4"
  }
 },
 "nbformat": 4,
 "nbformat_minor": 5
}
